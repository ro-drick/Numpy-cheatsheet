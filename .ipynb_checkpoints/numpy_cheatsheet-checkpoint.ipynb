{
 "cells": [
  {
   "cell_type": "code",
   "execution_count": 1,
   "id": "96326fb2-3db5-4045-8d2e-bb3b44e396e7",
   "metadata": {},
   "outputs": [],
   "source": [
    "import numpy as np\n",
    "import pandas as pd"
   ]
  },
  {
   "cell_type": "markdown",
   "id": "c14ab6e8-8ab9-4ec6-a96f-dfb9fdb042df",
   "metadata": {},
   "source": [
    "<h3>Check numpy version</h3>"
   ]
  },
  {
   "cell_type": "code",
   "execution_count": 2,
   "id": "ea9260f2-1e19-4559-95be-edfcd3b79874",
   "metadata": {},
   "outputs": [
    {
     "data": {
      "text/plain": [
       "'1.26.4'"
      ]
     },
     "execution_count": 2,
     "metadata": {},
     "output_type": "execute_result"
    }
   ],
   "source": [
    "np.__version__"
   ]
  },
  {
   "cell_type": "markdown",
   "id": "87f51a34-20f3-41b4-9213-9db6ec56310d",
   "metadata": {},
   "source": [
    "<h3>Create arrays from Python lists</h3>"
   ]
  },
  {
   "cell_type": "code",
   "execution_count": 3,
   "id": "9eb333b5-d5df-4562-aeee-3ef45387c7bd",
   "metadata": {},
   "outputs": [
    {
     "data": {
      "text/plain": [
       "array([1, 2, 3, 4, 5])"
      ]
     },
     "execution_count": 3,
     "metadata": {},
     "output_type": "execute_result"
    }
   ],
   "source": [
    "arr= np.array([1,2,3,4,5])\n",
    "arr"
   ]
  },
  {
   "cell_type": "markdown",
   "id": "38e78d61-cc53-4e7a-b79f-43deb6556708",
   "metadata": {},
   "source": [
    "<h3>Explicitly set the data type of the resulting array</h3>"
   ]
  },
  {
   "cell_type": "code",
   "execution_count": 4,
   "id": "1759debc-b108-4150-8c3e-5dcbf1240e0e",
   "metadata": {},
   "outputs": [
    {
     "data": {
      "text/plain": [
       "array([1., 2., 3., 4., 5.], dtype=float32)"
      ]
     },
     "execution_count": 4,
     "metadata": {},
     "output_type": "execute_result"
    }
   ],
   "source": [
    "arr= np.array([1,2,3,4,5], dtype= \"float32\")\n",
    "arr"
   ]
  },
  {
   "cell_type": "markdown",
   "id": "753db9c9-bf20-4c15-bfda-91338bd22b76",
   "metadata": {},
   "source": [
    "<h3>Creating arrays from scratch</h3>"
   ]
  },
  {
   "cell_type": "code",
   "execution_count": 5,
   "id": "4814ab3c-f772-4c2f-8fac-b0de0b22470a",
   "metadata": {},
   "outputs": [
    {
     "data": {
      "text/plain": [
       "array([0., 0., 0., 0., 0., 0., 0., 0., 0., 0.])"
      ]
     },
     "execution_count": 5,
     "metadata": {},
     "output_type": "execute_result"
    }
   ],
   "source": [
    "arr= np.zeros(10)# Array filled with zeros\n",
    "arr"
   ]
  },
  {
   "cell_type": "code",
   "execution_count": 6,
   "id": "f084374d-9e57-467b-b6ef-3312f5a2a0bc",
   "metadata": {},
   "outputs": [
    {
     "data": {
      "text/plain": [
       "array([[1., 1., 1.],\n",
       "       [1., 1., 1.],\n",
       "       [1., 1., 1.]])"
      ]
     },
     "execution_count": 6,
     "metadata": {},
     "output_type": "execute_result"
    }
   ],
   "source": [
    "arr= np.ones((3,3))# 3x3 array filled with 1s\n",
    "arr"
   ]
  },
  {
   "cell_type": "code",
   "execution_count": 7,
   "id": "fc0d4e66-4ace-4356-bf5e-e262e03649d3",
   "metadata": {},
   "outputs": [
    {
     "data": {
      "text/plain": [
       "array([[3.14, 3.14, 3.14, 3.14],\n",
       "       [3.14, 3.14, 3.14, 3.14],\n",
       "       [3.14, 3.14, 3.14, 3.14]])"
      ]
     },
     "execution_count": 7,
     "metadata": {},
     "output_type": "execute_result"
    }
   ],
   "source": [
    "arr= np.full((3,4), 3.14)# 3x4 array filled with3.14\n",
    "arr"
   ]
  },
  {
   "cell_type": "code",
   "execution_count": 8,
   "id": "d0216040-c6b6-4d7a-bb10-6ed8e17dcb5f",
   "metadata": {},
   "outputs": [
    {
     "data": {
      "text/plain": [
       "array([ 0,  2,  4,  6,  8, 10, 12, 14, 16, 18])"
      ]
     },
     "execution_count": 8,
     "metadata": {},
     "output_type": "execute_result"
    }
   ],
   "source": [
    "arr= np.arange(0, 20, 2)# Create an array starting from 0 to 20, stepping by 2 \n",
    "arr"
   ]
  },
  {
   "cell_type": "code",
   "execution_count": 9,
   "id": "659856af-44b7-412e-af60-8a51cbdac05c",
   "metadata": {},
   "outputs": [
    {
     "data": {
      "text/plain": [
       "array([ 0. ,  3.5,  7. , 10.5, 14. , 17.5, 21. ])"
      ]
     },
     "execution_count": 9,
     "metadata": {},
     "output_type": "execute_result"
    }
   ],
   "source": [
    "arr= np.linspace(0, 21, 7)# Create an array with values from 0 to 21 with 7 evenly spaced integers\n",
    "arr"
   ]
  },
  {
   "cell_type": "code",
   "execution_count": 10,
   "id": "52f18615-163f-4c76-a1c8-8f61bce2e6b4",
   "metadata": {},
   "outputs": [
    {
     "data": {
      "text/plain": [
       "array([[0.50292585, 0.55481275],\n",
       "       [0.49039168, 0.16473269]])"
      ]
     },
     "execution_count": 10,
     "metadata": {},
     "output_type": "execute_result"
    }
   ],
   "source": [
    "arr= np.random.random((2,2))# 2x2 array of random values uniformly distributed between 0 and 1\n",
    "arr"
   ]
  },
  {
   "cell_type": "code",
   "execution_count": 11,
   "id": "46699dee-c9c9-4ebb-83f6-6457c490ef77",
   "metadata": {},
   "outputs": [
    {
     "data": {
      "text/plain": [
       "array([[18, 15, 16,  0, 15],\n",
       "       [ 0, 10,  6,  4, 14],\n",
       "       [10,  3,  6, 17, 12],\n",
       "       [17, 16, 10, 17, 11]])"
      ]
     },
     "execution_count": 11,
     "metadata": {},
     "output_type": "execute_result"
    }
   ],
   "source": [
    "arr= np.random.randint(0,20, (4,5))#4x5 array of random integers between 0 and 20\n",
    "arr"
   ]
  },
  {
   "cell_type": "code",
   "execution_count": 12,
   "id": "793aff11-c717-4c71-8735-d2ad8c460eee",
   "metadata": {},
   "outputs": [
    {
     "data": {
      "text/plain": [
       "array([[1., 0., 0.],\n",
       "       [0., 1., 0.],\n",
       "       [0., 0., 1.]])"
      ]
     },
     "execution_count": 12,
     "metadata": {},
     "output_type": "execute_result"
    }
   ],
   "source": [
    "arr= np.eye(3)# Create a 3x3 identity matrix\n",
    "arr"
   ]
  },
  {
   "cell_type": "code",
   "execution_count": 13,
   "id": "f866ebe4-641e-48f9-92a5-0877f2034a00",
   "metadata": {},
   "outputs": [
    {
     "data": {
      "text/plain": [
       "array([0.50292585, 0.55481275, 0.49039168, 0.16473269])"
      ]
     },
     "execution_count": 13,
     "metadata": {},
     "output_type": "execute_result"
    }
   ],
   "source": [
    "arr= np.empty(4)# Create an uninitialized array of four values\n",
    "arr"
   ]
  },
  {
   "cell_type": "markdown",
   "id": "d6834bfc-5126-4835-be2c-d201fcd8bab7",
   "metadata": {},
   "source": [
    "<h3>NumPy array attributes</h3>"
   ]
  },
  {
   "cell_type": "code",
   "execution_count": 14,
   "id": "1bb5a186-9696-48d4-878e-ab348f889112",
   "metadata": {},
   "outputs": [
    {
     "data": {
      "text/plain": [
       "array([[[8, 0, 3, 1, 1],\n",
       "        [6, 6, 2, 8, 3],\n",
       "        [3, 9, 4, 7, 7],\n",
       "        [5, 6, 6, 5, 5]],\n",
       "\n",
       "       [[3, 5, 3, 2, 7],\n",
       "        [9, 1, 2, 9, 5],\n",
       "        [9, 4, 5, 3, 7],\n",
       "        [9, 9, 5, 3, 8]],\n",
       "\n",
       "       [[4, 3, 4, 4, 8],\n",
       "        [9, 2, 6, 1, 1],\n",
       "        [7, 3, 5, 8, 4],\n",
       "        [6, 0, 6, 5, 2]]])"
      ]
     },
     "execution_count": 14,
     "metadata": {},
     "output_type": "execute_result"
    }
   ],
   "source": [
    "x= np.random.randint(10, size=(3,4,5))# 3d array\n",
    "x"
   ]
  },
  {
   "cell_type": "code",
   "execution_count": 15,
   "id": "c1605e04-0f67-4185-b717-70ebcf16b3c7",
   "metadata": {},
   "outputs": [
    {
     "data": {
      "text/plain": [
       "3"
      ]
     },
     "execution_count": 15,
     "metadata": {},
     "output_type": "execute_result"
    }
   ],
   "source": [
    "x.ndim #Check the number of dimensions"
   ]
  },
  {
   "cell_type": "code",
   "execution_count": 16,
   "id": "14b1b1a3-4de7-480b-9dda-e5831a53063b",
   "metadata": {},
   "outputs": [
    {
     "data": {
      "text/plain": [
       "(3, 4, 5)"
      ]
     },
     "execution_count": 16,
     "metadata": {},
     "output_type": "execute_result"
    }
   ],
   "source": [
    "x.shape # Check the size of each dimension"
   ]
  },
  {
   "cell_type": "code",
   "execution_count": 17,
   "id": "bd86cfc2-e944-4817-8fe9-2b869fb52cc2",
   "metadata": {},
   "outputs": [
    {
     "data": {
      "text/plain": [
       "60"
      ]
     },
     "execution_count": 17,
     "metadata": {},
     "output_type": "execute_result"
    }
   ],
   "source": [
    "x.size# Check the total size of the array"
   ]
  },
  {
   "cell_type": "markdown",
   "id": "815396b9-8c90-4269-89ad-ac5acba28aa8",
   "metadata": {},
   "source": [
    "<h3>Concatenating arrays</h3>"
   ]
  },
  {
   "cell_type": "code",
   "execution_count": 24,
   "id": "7743400f-0141-45ea-8a43-6f5a327b0577",
   "metadata": {},
   "outputs": [
    {
     "data": {
      "text/plain": [
       "array([[ 0.,  1.,  2.,  3.,  4.],\n",
       "       [ 5.,  6.,  7.,  8.,  9.],\n",
       "       [10., 11., 12., 13., 14.],\n",
       "       [15., 16., 17., 18., 19.],\n",
       "       [ 1.,  1.,  1.,  1.,  1.],\n",
       "       [ 1.,  1.,  1.,  1.,  1.],\n",
       "       [ 1.,  1.,  1.,  1.,  1.],\n",
       "       [ 1.,  1.,  1.,  1.,  1.]])"
      ]
     },
     "execution_count": 24,
     "metadata": {},
     "output_type": "execute_result"
    }
   ],
   "source": [
    "arr1= np.arange(20).reshape(4,5)\n",
    "arr2= np.ones(20).reshape(4,5)\n",
    "np.concatenate([arr1,arr2])# Arrays have to be of same dimensions"
   ]
  },
  {
   "cell_type": "code",
   "execution_count": 29,
   "id": "91758784-ecd8-4f42-8aae-54f0cd8967df",
   "metadata": {},
   "outputs": [
    {
     "data": {
      "text/plain": [
       "array([[ 0,  1,  2,  3,  4],\n",
       "       [ 5,  6,  7,  8,  9],\n",
       "       [10, 11, 12, 13, 14],\n",
       "       [15, 16, 17, 18, 19],\n",
       "       [ 5,  5,  5,  5,  5]])"
      ]
     },
     "execution_count": 29,
     "metadata": {},
     "output_type": "execute_result"
    }
   ],
   "source": [
    "arr3= np.full(5, 5)\n",
    "np.vstack([arr1, arr3])# Stack arrays vertically"
   ]
  },
  {
   "cell_type": "code",
   "execution_count": 31,
   "id": "1fab449c-1b5c-45f5-80a1-3dfdd7a4a885",
   "metadata": {},
   "outputs": [
    {
     "data": {
      "text/plain": [
       "array([[ 0,  1,  2,  3,  4,  4],\n",
       "       [ 5,  6,  7,  8,  9,  4],\n",
       "       [10, 11, 12, 13, 14,  4],\n",
       "       [15, 16, 17, 18, 19,  4]])"
      ]
     },
     "execution_count": 31,
     "metadata": {},
     "output_type": "execute_result"
    }
   ],
   "source": [
    "arr4= np.array([[4], [4],[4],[4]])\n",
    "np.hstack([arr1,arr4])#Stack arrays horizontally"
   ]
  },
  {
   "cell_type": "code",
   "execution_count": null,
   "id": "bcecd11d-33ad-4569-be40-caf74512210a",
   "metadata": {},
   "outputs": [],
   "source": []
  }
 ],
 "metadata": {
  "kernelspec": {
   "display_name": "Python 3 (ipykernel)",
   "language": "python",
   "name": "python3"
  },
  "language_info": {
   "codemirror_mode": {
    "name": "ipython",
    "version": 3
   },
   "file_extension": ".py",
   "mimetype": "text/x-python",
   "name": "python",
   "nbconvert_exporter": "python",
   "pygments_lexer": "ipython3",
   "version": "3.12.2"
  }
 },
 "nbformat": 4,
 "nbformat_minor": 5
}
